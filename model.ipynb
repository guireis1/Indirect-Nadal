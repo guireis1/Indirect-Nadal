{
 "cells": [
  {
   "cell_type": "markdown",
   "metadata": {},
   "source": [
    "### Bibliotecas"
   ]
  },
  {
   "cell_type": "code",
   "execution_count": 1,
   "metadata": {},
   "outputs": [
    {
     "name": "stderr",
     "output_type": "stream",
     "text": [
      "/home/guireis/miniconda3/lib/python3.7/site-packages/sklearn/utils/deprecation.py:143: FutureWarning: The sklearn.metrics.classification module is  deprecated in version 0.22 and will be removed in version 0.24. The corresponding classes / functions should instead be imported from sklearn.metrics. Anything that cannot be imported from sklearn.metrics is now part of the private API.\n",
      "  warnings.warn(message, FutureWarning)\n"
     ]
    }
   ],
   "source": [
    "import pandas as pd\n",
    "import numpy as np\n",
    "import matplotlib.pyplot as plt\n",
    "import seaborn as sns\n",
    "import ppscore as pps\n",
    "\n",
    "from yellowbrick.regressor import PredictionError\n",
    "from yellowbrick.regressor import ResidualsPlot\n",
    "from yellowbrick.model_selection import RFECV\n",
    "from yellowbrick.model_selection import ValidationCurve\n",
    "from yellowbrick.model_selection import LearningCurve\n",
    "from yellowbrick.model_selection import FeatureImportances\n",
    "\n",
    "from sklearn.model_selection import train_test_split\n",
    "from sklearn.model_selection import StratifiedKFold\n",
    "from sklearn.feature_selection import RFE\n",
    "from sklearn.base import clone\n",
    "\n",
    "from sklearn.model_selection import train_test_split\n",
    "from sklearn.metrics import mean_squared_error\n",
    "from sklearn.metrics import mean_absolute_error\n",
    "from sklearn.metrics import r2_score\n",
    "\n",
    "from sklearn.feature_selection import SelectKBest, f_regression, chi2\n",
    "from sklearn.ensemble import RandomForestRegressor\n",
    "from xgboost import XGBRegressor\n",
    "\n",
    "from tpot.builtins import StackingEstimator\n",
    "from tpot.export_utils import set_param_recursive\n",
    "from tpot import TPOTRegressor\n",
    "\n",
    "import warnings\n",
    "warnings.filterwarnings('ignore')"
   ]
  },
  {
   "cell_type": "markdown",
   "metadata": {},
   "source": [
    "## Data"
   ]
  },
  {
   "cell_type": "markdown",
   "metadata": {},
   "source": [
    "### 100"
   ]
  },
  {
   "cell_type": "code",
   "execution_count": 2,
   "metadata": {},
   "outputs": [],
   "source": [
    "eixo_100=pd.read_excel(\"dados/7_13_2020 - Acel 100Hz com irregularidade.xlsx\",sheet_name=\"eixo\")"
   ]
  },
  {
   "cell_type": "code",
   "execution_count": 3,
   "metadata": {},
   "outputs": [],
   "source": [
    "eixo_100.drop(['X-values',\n",
    "             'X-values.1',\n",
    "             'X-values.2',\n",
    "             'X-values.3',\n",
    "             'X-values.4',\n",
    "             'X-values.5',\n",
    "             'X-values.6',\n",
    "             'X-values.7',],axis=1,inplace=True)"
   ]
  },
  {
   "cell_type": "code",
   "execution_count": 4,
   "metadata": {},
   "outputs": [],
   "source": [
    "eixo_100.columns=['y_eixo_r1_esq',\n",
    "                'z_eixo_r1_esq',\n",
    "                'y_eixo_r1_dir',\n",
    "                'z_eixo_r1_dir',\n",
    "                'y_eixo_r2_esq',\n",
    "                'z_eixo_r2_esq',\n",
    "                'y_eixo_r2_dir',\n",
    "                'z_eixo_r2_dir']"
   ]
  },
  {
   "cell_type": "code",
   "execution_count": 5,
   "metadata": {},
   "outputs": [],
   "source": [
    "triaxial_100=pd.read_excel(\"dados/7_13_2020 - Acel 100Hz com irregularidade.xlsx\",sheet_name=\"triaxial\")"
   ]
  },
  {
   "cell_type": "code",
   "execution_count": 6,
   "metadata": {},
   "outputs": [],
   "source": [
    "triaxial_100.drop(['X-values','X-values.1','X-values.2','X-values.3','Distance'],axis=1,inplace=True)"
   ]
  },
  {
   "cell_type": "code",
   "execution_count": 7,
   "metadata": {},
   "outputs": [],
   "source": [
    "triaxial_100.columns=['triaxial-x','triaxial-y','triaxial-z']"
   ]
  },
  {
   "cell_type": "code",
   "execution_count": 8,
   "metadata": {},
   "outputs": [],
   "source": [
    "giro=pd.read_excel(\"dados/7_13_2020 - Acel 100Hz com irregularidade.xlsx\",sheet_name=\"giro\")"
   ]
  },
  {
   "cell_type": "code",
   "execution_count": 9,
   "metadata": {},
   "outputs": [],
   "source": [
    "giro.drop(['X-values','X-values.1'],axis=1,inplace=True)"
   ]
  },
  {
   "cell_type": "code",
   "execution_count": 10,
   "metadata": {},
   "outputs": [],
   "source": [
    "giro.columns=['roll','pitch']"
   ]
  },
  {
   "cell_type": "code",
   "execution_count": 11,
   "metadata": {},
   "outputs": [],
   "source": [
    "susp_100=pd.read_excel(\"dados/7_13_2020 - Acel 100Hz com irregularidade.xlsx\",sheet_name=\"mola + ace lvert + acel alt\")"
   ]
  },
  {
   "cell_type": "code",
   "execution_count": 12,
   "metadata": {},
   "outputs": [],
   "source": [
    "susp_100.drop(['X-values','X-values.1','X-values.2','X-values.3','X-values.4','X-values.5','X-values.6','X-values.7','X-values.8','X-values.9','X-values.10','X-values.11'],axis=1,inplace=True)"
   ]
  },
  {
   "cell_type": "code",
   "execution_count": 13,
   "metadata": {},
   "outputs": [],
   "source": [
    "susp_100.columns=['z_r1_esq_real','z_r2_esq','z_r1_dir_real','z_r2_dir','s1_mola1','s1_mola2','s2_mola1','s2_mola2','y_r1_esq','y_r2_esq','y_r1_dir','y_r2_dir']"
   ]
  },
  {
   "cell_type": "code",
   "execution_count": 14,
   "metadata": {},
   "outputs": [],
   "source": [
    "mola=susp_100[['s1_mola1','s1_mola2','s2_mola1','s2_mola2']]"
   ]
  },
  {
   "cell_type": "code",
   "execution_count": 15,
   "metadata": {},
   "outputs": [],
   "source": [
    "susp_real_100 = susp_100[['z_r1_esq_real','z_r1_dir_real']]"
   ]
  },
  {
   "cell_type": "code",
   "execution_count": 16,
   "metadata": {},
   "outputs": [],
   "source": [
    "susp_virtual_100 = susp_100[['z_r2_esq','z_r2_dir','y_r1_esq','y_r2_esq','y_r1_dir','y_r2_dir']]"
   ]
  },
  {
   "cell_type": "code",
   "execution_count": 17,
   "metadata": {},
   "outputs": [],
   "source": [
    "nadal_100=pd.read_excel(\"dados/7_13_2020 - Nadal 100Hz com irregularidade.xlsx\",sheet_name=\"Sheet1\")"
   ]
  },
  {
   "cell_type": "code",
   "execution_count": 18,
   "metadata": {},
   "outputs": [],
   "source": [
    "nadal_100.drop(['X-values','X-values.1','X-values.2','X-values.3'],axis=1,inplace=True)"
   ]
  },
  {
   "cell_type": "code",
   "execution_count": 19,
   "metadata": {},
   "outputs": [],
   "source": [
    "nadal_100.columns=['nadal_r1_esq','nadal_r2_esq','nadal_r1_dir','nadal_r2_dir']"
   ]
  },
  {
   "cell_type": "code",
   "execution_count": 20,
   "metadata": {},
   "outputs": [],
   "source": [
    "triaxial_100.drop(['triaxial-x'],axis=1,inplace=True)"
   ]
  },
  {
   "cell_type": "code",
   "execution_count": 21,
   "metadata": {},
   "outputs": [],
   "source": [
    "tudo_100 = pd.concat([susp_real_100,susp_virtual_100,eixo_100,triaxial_100,giro,mola,nadal_100],axis=1)[4:]\n",
    "tudo_100 = tudo_100.reset_index(drop=True)"
   ]
  },
  {
   "cell_type": "code",
   "execution_count": 22,
   "metadata": {},
   "outputs": [],
   "source": [
    "x_virtual_100 = pd.concat([susp_virtual_100,eixo_100,giro],axis=1)[4:]\n",
    "x_virtual_100 = x_virtual_100.reset_index(drop=True)\n"
   ]
  },
  {
   "cell_type": "code",
   "execution_count": 23,
   "metadata": {},
   "outputs": [],
   "source": [
    "x_real_100 = pd.concat([susp_real_100,triaxial_100,mola],axis=1)[4:]\n",
    "x_real_100=x_real_100.reset_index(drop=True)\n"
   ]
  },
  {
   "cell_type": "code",
   "execution_count": 24,
   "metadata": {},
   "outputs": [],
   "source": [
    "x_tudo_100 = pd.concat([susp_real_100,susp_virtual_100,eixo_100,triaxial_100,giro,mola],axis=1)[4:]\n",
    "x_tudo_100 = x_tudo_100.reset_index(drop=True)\n"
   ]
  },
  {
   "cell_type": "code",
   "execution_count": 25,
   "metadata": {},
   "outputs": [],
   "source": [
    "y_nadal_1_esq_100 = nadal_100['nadal_r1_esq'][4:]\n",
    "y_nadal_1_dir_100 = nadal_100['nadal_r1_dir'][4:]\n",
    "y_nadal_2_esq_100 = nadal_100['nadal_r2_esq'][4:]\n",
    "y_nadal_2_dir_100 = nadal_100['nadal_r2_dir'][4:]\n",
    "y_nadal_1_esq_100 = y_nadal_1_esq_100.reset_index(drop=True)\n",
    "y_nadal_1_dir_100 = y_nadal_1_dir_100.reset_index(drop=True)\n",
    "y_nadal_2_esq_100 = y_nadal_2_esq_100.reset_index(drop=True)\n",
    "y_nadal_2_dir_100 = y_nadal_2_dir_100.reset_index(drop=True)"
   ]
  },
  {
   "cell_type": "markdown",
   "metadata": {},
   "source": [
    "### 1"
   ]
  },
  {
   "cell_type": "code",
   "execution_count": 26,
   "metadata": {},
   "outputs": [],
   "source": [
    "eixo_1=pd.read_excel(\"dados/Acel_1Hz_com_irregularidade_V2.xlsx\",sheet_name=\"eixo\")"
   ]
  },
  {
   "cell_type": "code",
   "execution_count": 27,
   "metadata": {},
   "outputs": [],
   "source": [
    "eixo_1.drop(['X-values',\n",
    "             'X-values.1',\n",
    "             'X-values.2',\n",
    "             'X-values.3',\n",
    "             'X-values.4',\n",
    "             'X-values.5',\n",
    "             'X-values.6',\n",
    "             'X-values.7',],axis=1,inplace=True)"
   ]
  },
  {
   "cell_type": "code",
   "execution_count": 28,
   "metadata": {},
   "outputs": [],
   "source": [
    "eixo_1.columns=['y_eixo_r1_esq',\n",
    "                'z_eixo_r1_esq',\n",
    "                'y_eixo_r1_dir',\n",
    "                'z_eixo_r1_dir',\n",
    "                'y_eixo_r2_esq',\n",
    "                'z_eixo_r2_esq',\n",
    "                'y_eixo_r2_dir',\n",
    "                'z_eixo_r2_dir']"
   ]
  },
  {
   "cell_type": "code",
   "execution_count": 29,
   "metadata": {},
   "outputs": [],
   "source": [
    "triaxial_1=pd.read_excel(\"dados/Acel_1Hz_com_irregularidade_V2.xlsx\",sheet_name=\"triaxial\")"
   ]
  },
  {
   "cell_type": "code",
   "execution_count": 30,
   "metadata": {},
   "outputs": [],
   "source": [
    "triaxial_1.drop(['X-values','X-values.1','X-values.2','X-values.3','Distance'],axis=1,inplace=True)"
   ]
  },
  {
   "cell_type": "code",
   "execution_count": 31,
   "metadata": {},
   "outputs": [],
   "source": [
    "triaxial_1.columns=['triaxial-x','triaxial-y','triaxial-z']"
   ]
  },
  {
   "cell_type": "code",
   "execution_count": 32,
   "metadata": {},
   "outputs": [],
   "source": [
    "giro_1=pd.read_excel(\"dados/Acel_1Hz_com_irregularidade_V2.xlsx\",sheet_name=\"giro\")"
   ]
  },
  {
   "cell_type": "code",
   "execution_count": 33,
   "metadata": {},
   "outputs": [],
   "source": [
    "giro_1.drop(['X-values','X-values.1'],axis=1,inplace=True)"
   ]
  },
  {
   "cell_type": "code",
   "execution_count": 34,
   "metadata": {},
   "outputs": [],
   "source": [
    "giro_1.columns=['roll','pitch']"
   ]
  },
  {
   "cell_type": "code",
   "execution_count": 35,
   "metadata": {},
   "outputs": [],
   "source": [
    "susp_1 =pd.read_excel(\"dados/Acel_1Hz_com_irregularidade_V2.xlsx\",sheet_name=\"acel vert + lat + mola\")"
   ]
  },
  {
   "cell_type": "code",
   "execution_count": 36,
   "metadata": {},
   "outputs": [],
   "source": [
    "susp_1.drop(['X-values','X-values.1','X-values.2','X-values.3','X-values.4','X-values.5','X-values.6','X-values.7','X-values.8','X-values.9','X-values.10','X-values.11'],axis=1,inplace=True)"
   ]
  },
  {
   "cell_type": "code",
   "execution_count": 37,
   "metadata": {},
   "outputs": [],
   "source": [
    "susp_1.columns=['z_r1_esq_real','z_r2_esq','z_r1_dir_real','z_r2_dir','s1_mola1','s1_mola2','s2_mola1','s2_mola2','y_r1_esq','y_r2_esq','y_r1_dir','y_r2_dir']"
   ]
  },
  {
   "cell_type": "code",
   "execution_count": 38,
   "metadata": {},
   "outputs": [],
   "source": [
    "mola_1=susp_1[['s1_mola1','s1_mola2','s2_mola1','s2_mola2']]"
   ]
  },
  {
   "cell_type": "code",
   "execution_count": 39,
   "metadata": {},
   "outputs": [],
   "source": [
    "susp_real_1 = susp_1[['z_r1_esq_real','z_r1_dir_real']]"
   ]
  },
  {
   "cell_type": "code",
   "execution_count": 40,
   "metadata": {},
   "outputs": [],
   "source": [
    "susp_virtual_1 = susp_1[['z_r2_esq','z_r2_dir','y_r1_esq','y_r2_esq','y_r1_dir','y_r2_dir']]"
   ]
  },
  {
   "cell_type": "code",
   "execution_count": 41,
   "metadata": {},
   "outputs": [],
   "source": [
    "nadal_1=pd.read_excel(\"dados/Nadal_1Hz_com_irregularidade_V2.xlsx\",sheet_name=\"Sheet1\")"
   ]
  },
  {
   "cell_type": "code",
   "execution_count": 42,
   "metadata": {},
   "outputs": [],
   "source": [
    "nadal_1.drop(['X-values','X-values.1','X-values.2','X-values.3'],axis=1,inplace=True)"
   ]
  },
  {
   "cell_type": "code",
   "execution_count": 43,
   "metadata": {},
   "outputs": [],
   "source": [
    "nadal_1.columns=['nadal_r1_esq','nadal_r2_esq','nadal_r1_dir','nadal_r2_dir']"
   ]
  },
  {
   "cell_type": "code",
   "execution_count": 44,
   "metadata": {},
   "outputs": [],
   "source": [
    "triaxial_1.drop(['triaxial-x'],axis=1,inplace=True)"
   ]
  },
  {
   "cell_type": "code",
   "execution_count": 45,
   "metadata": {},
   "outputs": [],
   "source": [
    "tudo_1 = pd.concat([susp_real_1,susp_virtual_1,eixo_1,triaxial_1,giro_1,mola_1,nadal_1],axis=1)[4:]\n",
    "tudo_1 = tudo_1.reset_index(drop=True)"
   ]
  },
  {
   "cell_type": "code",
   "execution_count": 46,
   "metadata": {},
   "outputs": [],
   "source": [
    "x_virtual_1 = pd.concat([susp_virtual_1,eixo_1,giro_1],axis=1)[4:]\n",
    "x_virtual_1 = x_virtual_1.reset_index(drop=True)"
   ]
  },
  {
   "cell_type": "code",
   "execution_count": 47,
   "metadata": {},
   "outputs": [],
   "source": [
    "x_real_1 = pd.concat([susp_real_1,triaxial_1,mola_1],axis=1)[4:]\n",
    "x_real_1=x_real_1.reset_index(drop=True)"
   ]
  },
  {
   "cell_type": "code",
   "execution_count": 48,
   "metadata": {},
   "outputs": [],
   "source": [
    "x_tudo_1 = pd.concat([susp_real_1,susp_virtual_1,eixo_1,triaxial_1,giro_1,mola_1],axis=1)[4:]\n",
    "x_tudo_1 = x_tudo_1.reset_index(drop=True)"
   ]
  },
  {
   "cell_type": "code",
   "execution_count": 49,
   "metadata": {},
   "outputs": [],
   "source": [
    "y_nadal_1_esq_1 = nadal_1['nadal_r1_esq'][4:]\n",
    "y_nadal_1_dir_1 = nadal_1['nadal_r1_dir'][4:]\n",
    "y_nadal_2_esq_1 = nadal_1['nadal_r2_esq'][4:]\n",
    "y_nadal_2_dir_1 = nadal_1['nadal_r2_dir'][4:]\n",
    "y_nadal_1_esq_1 = y_nadal_1_esq_1.reset_index(drop=True)\n",
    "y_nadal_1_dir_1 = y_nadal_1_dir_1.reset_index(drop=True)\n",
    "y_nadal_2_esq_1 = y_nadal_2_esq_1.reset_index(drop=True)\n",
    "y_nadal_2_dir_1 = y_nadal_2_dir_1.reset_index(drop=True)"
   ]
  },
  {
   "cell_type": "markdown",
   "metadata": {},
   "source": [
    "### 100 sem"
   ]
  },
  {
   "cell_type": "code",
   "execution_count": 50,
   "metadata": {},
   "outputs": [],
   "source": [
    "eixo_100_no=pd.read_excel(\"dados/7_13_2020 - Acel 100Hz sem irregularidade.xlsx\",sheet_name=\"eixo\")"
   ]
  },
  {
   "cell_type": "code",
   "execution_count": 51,
   "metadata": {},
   "outputs": [],
   "source": [
    "eixo_100_no.drop(['X-values',\n",
    "             'X-values.1',\n",
    "             'X-values.2',\n",
    "             'X-values.3',\n",
    "             'X-values.4',\n",
    "             'X-values.5',\n",
    "             'X-values.6',\n",
    "             'X-values.7',],axis=1,inplace=True)"
   ]
  },
  {
   "cell_type": "code",
   "execution_count": 52,
   "metadata": {},
   "outputs": [],
   "source": [
    "eixo_100_no.columns=['y_eixo_r1_esq',\n",
    "                'z_eixo_r1_esq',\n",
    "                'y_eixo_r1_dir',\n",
    "                'z_eixo_r1_dir',\n",
    "                'y_eixo_r2_esq',\n",
    "                'z_eixo_r2_esq',\n",
    "                'y_eixo_r2_dir',\n",
    "                'z_eixo_r2_dir']"
   ]
  },
  {
   "cell_type": "code",
   "execution_count": 53,
   "metadata": {},
   "outputs": [],
   "source": [
    "triaxial_100_no=pd.read_excel(\"dados/7_13_2020 - Acel 100Hz sem irregularidade.xlsx\",sheet_name=\"triaxial\")"
   ]
  },
  {
   "cell_type": "code",
   "execution_count": 54,
   "metadata": {},
   "outputs": [],
   "source": [
    "triaxial_100_no.drop(['X-values','X-values.1','X-values.2','X-values.3','Distance'],axis=1,inplace=True)"
   ]
  },
  {
   "cell_type": "code",
   "execution_count": 55,
   "metadata": {},
   "outputs": [],
   "source": [
    "triaxial_100_no.columns=['triaxial-x','triaxial-y','triaxial-z']"
   ]
  },
  {
   "cell_type": "code",
   "execution_count": 56,
   "metadata": {},
   "outputs": [],
   "source": [
    "giro_100_no=pd.read_excel(\"dados/7_13_2020 - Acel 100Hz sem irregularidade.xlsx\",sheet_name=\"giro\")"
   ]
  },
  {
   "cell_type": "code",
   "execution_count": 57,
   "metadata": {},
   "outputs": [],
   "source": [
    "giro_100_no.drop(['X-values','X-values.1'],axis=1,inplace=True)"
   ]
  },
  {
   "cell_type": "code",
   "execution_count": 58,
   "metadata": {},
   "outputs": [],
   "source": [
    "giro_100_no.columns=['roll','pitch']"
   ]
  },
  {
   "cell_type": "code",
   "execution_count": 59,
   "metadata": {},
   "outputs": [],
   "source": [
    "susp_100_no =pd.read_excel(\"dados/7_13_2020 - Acel 100Hz sem irregularidade.xlsx\",sheet_name=\"mola + lat + vert travessa\")"
   ]
  },
  {
   "cell_type": "code",
   "execution_count": 60,
   "metadata": {},
   "outputs": [],
   "source": [
    "susp_100_no.drop(['X-values','X-values.1','X-values.2','X-values.3','X-values.4','X-values.5','X-values.6','X-values.7','X-values.8','X-values.9','X-values.10','X-values.11'],axis=1,inplace=True)"
   ]
  },
  {
   "cell_type": "code",
   "execution_count": 61,
   "metadata": {},
   "outputs": [],
   "source": [
    "susp_100_no.columns=['z_r1_esq_real','z_r2_esq','z_r1_dir_real','z_r2_dir','s1_mola1','s1_mola2','s2_mola1','s2_mola2','y_r1_esq','y_r2_esq','y_r1_dir','y_r2_dir']"
   ]
  },
  {
   "cell_type": "code",
   "execution_count": 62,
   "metadata": {},
   "outputs": [],
   "source": [
    "mola_100_no=susp_100_no[['s1_mola1','s1_mola2','s2_mola1','s2_mola2']]"
   ]
  },
  {
   "cell_type": "code",
   "execution_count": 63,
   "metadata": {},
   "outputs": [],
   "source": [
    "susp_real_100_no = susp_100_no[['z_r1_esq_real','z_r1_dir_real']]"
   ]
  },
  {
   "cell_type": "code",
   "execution_count": 64,
   "metadata": {},
   "outputs": [],
   "source": [
    "susp_virtual_100_no = susp_100_no[['z_r2_esq','z_r2_dir','y_r1_esq','y_r2_esq','y_r1_dir','y_r2_dir']]"
   ]
  },
  {
   "cell_type": "code",
   "execution_count": 65,
   "metadata": {},
   "outputs": [],
   "source": [
    "nadal_100_no=pd.read_excel(\"dados/7_13_2020 - Nadal 100Hz sem irregularidades.xlsx\",sheet_name=\"Sheet1\")"
   ]
  },
  {
   "cell_type": "code",
   "execution_count": 66,
   "metadata": {},
   "outputs": [],
   "source": [
    "nadal_100_no.drop(['X-values','X-values.1','X-values.2','X-values.3'],axis=1,inplace=True)"
   ]
  },
  {
   "cell_type": "code",
   "execution_count": 67,
   "metadata": {},
   "outputs": [],
   "source": [
    "nadal_100_no.columns=['nadal_r1_esq','nadal_r2_esq','nadal_r1_dir','nadal_r2_dir']"
   ]
  },
  {
   "cell_type": "code",
   "execution_count": 68,
   "metadata": {},
   "outputs": [],
   "source": [
    "triaxial_100_no.drop(['triaxial-x'],axis=1,inplace=True)"
   ]
  },
  {
   "cell_type": "code",
   "execution_count": 69,
   "metadata": {},
   "outputs": [],
   "source": [
    "tudo_100_no = pd.concat([susp_real_100_no,susp_virtual_100_no,eixo_100_no,triaxial_100_no,giro_100_no,mola_100_no,nadal_100_no],axis=1)[4:]\n",
    "tudo_100_no = tudo_100_no.reset_index(drop=True)"
   ]
  },
  {
   "cell_type": "code",
   "execution_count": 70,
   "metadata": {},
   "outputs": [],
   "source": [
    "x_virtual_100_no = pd.concat([susp_virtual_100_no,eixo_100_no,giro_100_no],axis=1)[4:]\n",
    "x_virtual_100_no = x_virtual_100_no.reset_index(drop=True)"
   ]
  },
  {
   "cell_type": "code",
   "execution_count": 71,
   "metadata": {},
   "outputs": [],
   "source": [
    "x_real_100_no= pd.concat([susp_real_100_no,triaxial_100_no,mola_100_no],axis=1)[4:]\n",
    "x_real_100_no=x_real_100_no.reset_index(drop=True)"
   ]
  },
  {
   "cell_type": "code",
   "execution_count": 72,
   "metadata": {},
   "outputs": [],
   "source": [
    "x_tudo_100_no = pd.concat([susp_real_100_no,susp_virtual_100_no,eixo_100_no,triaxial_100_no,giro_100_no,mola_100_no],axis=1)[4:]\n",
    "x_tudo_100_no = x_tudo_100_no.reset_index(drop=True)"
   ]
  },
  {
   "cell_type": "code",
   "execution_count": 73,
   "metadata": {},
   "outputs": [],
   "source": [
    "y_nadal_1_esq_100_no = nadal_100_no['nadal_r1_esq'][4:]\n",
    "y_nadal_1_dir_100_no = nadal_100_no['nadal_r1_dir'][4:]\n",
    "y_nadal_2_esq_100_no = nadal_100_no['nadal_r2_esq'][4:]\n",
    "y_nadal_2_dir_100_no = nadal_100_no['nadal_r2_dir'][4:]\n",
    "y_nadal_1_esq_100_no = y_nadal_1_esq_100_no.reset_index(drop=True)\n",
    "y_nadal_1_dir_100_no = y_nadal_1_dir_100_no.reset_index(drop=True)\n",
    "y_nadal_2_esq_100_no = y_nadal_2_esq_100_no.reset_index(drop=True)\n",
    "y_nadal_2_dir_100_no= y_nadal_2_dir_100_no.reset_index(drop=True)"
   ]
  },
  {
   "cell_type": "code",
   "execution_count": 74,
   "metadata": {},
   "outputs": [
    {
     "data": {
      "text/plain": [
       "36852"
      ]
     },
     "execution_count": 74,
     "metadata": {},
     "output_type": "execute_result"
    }
   ],
   "source": [
    "y_nadal_1_esq_100_no.size"
   ]
  },
  {
   "cell_type": "markdown",
   "metadata": {},
   "source": [
    "## Definições"
   ]
  },
  {
   "cell_type": "code",
   "execution_count": 75,
   "metadata": {},
   "outputs": [],
   "source": [
    "def residuo(model,X_train,X_test,y_train,y_test):\n",
    "    plt.figure(figsize=(13,8))\n",
    "    visualizer = ResidualsPlot(model,hist=True)\n",
    "    visualizer.fit(X_train[0:1000], y_train.squeeze()[0:1000])  # Fit the training data to the visualizer\n",
    "    visualizer.score(X_test[0:1000], y_test.squeeze()[0:1000])  # Evaluate the model on the test data\n",
    "    return visualizer.show()"
   ]
  },
  {
   "cell_type": "code",
   "execution_count": 76,
   "metadata": {},
   "outputs": [],
   "source": [
    "def feat_importances(model,train):\n",
    "    feat_importances = pd.Series(model.feature_importances_, index= train.columns)\n",
    "    return feat_importances.nlargest(20).plot(kind='barh',color='#cf6275')"
   ]
  },
  {
   "cell_type": "code",
   "execution_count": 77,
   "metadata": {},
   "outputs": [],
   "source": [
    "def feature_importance(model,X_train,y_train):\n",
    "    plt.figure(figsize=(10,10))\n",
    "    labels = list(map(lambda s: s.title(), X_train.columns))\n",
    "    viz = FeatureImportances(model, labels=labels, relative=False, colormap='Blues')\n",
    "    viz.fit(X_train, y_train)\n",
    "    return viz.show()"
   ]
  },
  {
   "cell_type": "code",
   "execution_count": 78,
   "metadata": {},
   "outputs": [],
   "source": [
    "def metric(y_test,predict):\n",
    "    mse = mean_squared_error(y_test, predict)\n",
    "    mae= mean_absolute_error(y_test,predict)\n",
    "    r2= r2_score(y_test,predict)\n",
    "    return print(\"MSE:{}\".format(mse),\"\\nMAE:{}\".format(mae),\"\\nR2:{}\".format(r2))"
   ]
  },
  {
   "cell_type": "code",
   "execution_count": 81,
   "metadata": {},
   "outputs": [],
   "source": [
    "def tpot(X_train,X_test,y_train,y_test,nome):\n",
    "    pipeline_optimizer = TPOTRegressor(generations=5, population_size=50, cv=5, random_state=42, verbosity=2)\n",
    "    pipeline_optimizer.fit(X_train, y_train)\n",
    "    predict=pipeline_optimizer.predict(X_test)\n",
    "    pipeline_optimizer.export(nome)\n",
    "    return (print(pipeline_optimizer.score(X_test, y_test)),\"\\n\",metric(y_test,predict))"
   ]
  },
  {
   "cell_type": "markdown",
   "metadata": {},
   "source": [
    "## 100 hz TPOT"
   ]
  },
  {
   "cell_type": "markdown",
   "metadata": {},
   "source": [
    "### Nadal_1_esq"
   ]
  },
  {
   "cell_type": "code",
   "execution_count": 88,
   "metadata": {},
   "outputs": [],
   "source": [
    "X_train_tudo,X_test_tudo,y_train_tudo,y_test_tudo=train_test_split(x_tudo_100,y_nadal_1_esq_100,test_size=0.3)"
   ]
  },
  {
   "cell_type": "code",
   "execution_count": 89,
   "metadata": {},
   "outputs": [],
   "source": [
    "X_train_real,X_test_real,y_train_real,y_test_real=train_test_split(x_real_100,y_nadal_1_esq_100,test_size=0.3)"
   ]
  },
  {
   "cell_type": "code",
   "execution_count": 90,
   "metadata": {},
   "outputs": [
    {
     "name": "stdout",
     "output_type": "stream",
     "text": [
      "Optimization Progress:  34%|███▎      | 101/300 [1:02:02<49:03, 14.79s/pipeline] \n",
      "Optimization Progress:  51%|█████     | 152/300 [1:51:03<3:06:18, 75.53s/pipeline] \n",
      "Optimization Progress:  67%|██████▋   | 202/300 [2:55:04<4:02:41, 148.59s/pipeline]\n",
      "Optimization Progress:  85%|████████▍ | 254/300 [4:24:37<1:06:45, 87.07s/pipeline] \n",
      "Optimization Progress: 305pipeline [5:47:54, 89.24s/pipeline]                      \n",
      "                                                             8908e-05\n",
      "Best pipeline: RandomForestRegressor(ExtraTreesRegressor(SGDRegressor(input_matrix, alpha=0.0, eta0=0.01, fit_intercept=True, l1_ratio=0.25, learning_rate=invscaling, loss=squared_loss, penalty=elasticnet, power_t=0.1), bootstrap=False, max_features=0.8, min_samples_leaf=5, min_samples_split=17, n_estimators=100), bootstrap=True, max_features=0.7500000000000001, min_samples_leaf=11, min_samples_split=13, n_estimators=100)\n",
      "-4.455355773712198e-05\n",
      "MSE:4.455355773712198e-05 \n",
      "MAE:0.0044772679593507265 \n",
      "R2:0.986013539017378\n"
     ]
    },
    {
     "data": {
      "text/plain": [
       "(None, '\\n', None)"
      ]
     },
     "execution_count": 90,
     "metadata": {},
     "output_type": "execute_result"
    }
   ],
   "source": [
    "tpot(X_train_tudo,X_test_tudo,y_train_tudo,y_test_tudo,'nadal_1_esq_tudo')"
   ]
  },
  {
   "cell_type": "code",
   "execution_count": 91,
   "metadata": {},
   "outputs": [
    {
     "name": "stdout",
     "output_type": "stream",
     "text": [
      "Optimization Progress:  33%|███▎      | 100/300 [15:30<47:29, 14.25s/pipeline] \n",
      "Optimization Progress:  50%|█████     | 150/300 [28:14<17:37,  7.05s/pipeline]  \n",
      "Optimization Progress:  67%|██████▋   | 200/300 [55:24<49:27, 29.68s/pipeline]  \n",
      "Optimization Progress:  84%|████████▎ | 251/300 [1:26:30<25:34, 31.32s/pipeline]   \n",
      "Optimization Progress: 301pipeline [1:52:15, 25.64s/pipeline]                   \n",
      "                                                             825228294\n",
      "Best pipeline: XGBRegressor(ExtraTreesRegressor(input_matrix, bootstrap=False, max_features=1.0, min_samples_leaf=3, min_samples_split=2, n_estimators=100), learning_rate=0.1, max_depth=7, min_child_weight=17, n_estimators=100, nthread=1, objective=reg:squarederror, subsample=0.2)\n",
      "-8.748850034792713e-05\n",
      "MSE:8.748850034792713e-05 \n",
      "MAE:0.005992783302455567 \n",
      "R2:0.9721311928847856\n"
     ]
    },
    {
     "data": {
      "text/plain": [
       "(None, '\\n', None)"
      ]
     },
     "execution_count": 91,
     "metadata": {},
     "output_type": "execute_result"
    }
   ],
   "source": [
    "tpot(X_train_real,X_test_real,y_train_real,y_test_real,'nadal_1_esq_real')"
   ]
  },
  {
   "cell_type": "markdown",
   "metadata": {},
   "source": [
    "### Nadal 1 dir"
   ]
  },
  {
   "cell_type": "code",
   "execution_count": 85,
   "metadata": {},
   "outputs": [],
   "source": [
    "X_train_tudo,X_test_tudo,y_train_tudo,y_test_tudo=train_test_split(x_tudo_100,y_nadal_1_dir_100,test_size=0.3)"
   ]
  },
  {
   "cell_type": "code",
   "execution_count": 86,
   "metadata": {},
   "outputs": [],
   "source": [
    "X_train_real,X_test_real,y_train_real,y_test_real=train_test_split(x_real_100,y_nadal_1_dir_100,test_size=0.3)"
   ]
  },
  {
   "cell_type": "code",
   "execution_count": 87,
   "metadata": {},
   "outputs": [
    {
     "name": "stdout",
     "output_type": "stream",
     "text": [
      "Optimization Progress:  34%|███▎      | 101/300 [1:01:54<48:12, 14.54s/pipeline] \n",
      "Optimization Progress:  50%|█████     | 151/300 [1:47:20<1:22:41, 33.30s/pipeline] \n",
      "Optimization Progress:  67%|██████▋   | 201/300 [2:30:11<54:30, 33.04s/pipeline]   \n",
      "Optimization Progress:  84%|████████▍ | 252/300 [3:41:15<1:18:52, 98.59s/pipeline] \n",
      "Optimization Progress: 304pipeline [5:15:33, 136.55s/pipeline]                     \n",
      "                                                              247e-05\n",
      "Best pipeline: XGBRegressor(RandomForestRegressor(input_matrix, bootstrap=True, max_features=0.8, min_samples_leaf=2, min_samples_split=16, n_estimators=100), learning_rate=0.5, max_depth=4, min_child_weight=3, n_estimators=100, nthread=1, objective=reg:squarederror, subsample=0.45)\n",
      "-4.6319502286662825e-05\n",
      "MSE:4.6319502286662825e-05 \n",
      "MAE:0.004534263834557969 \n",
      "R2:0.9852134310911124\n"
     ]
    },
    {
     "data": {
      "text/plain": [
       "(None, '\\n', None)"
      ]
     },
     "execution_count": 87,
     "metadata": {},
     "output_type": "execute_result"
    }
   ],
   "source": [
    "tpot(X_train_tudo,X_test_tudo,y_train_tudo,y_test_tudo,'nadal_1_dir_tudo')"
   ]
  },
  {
   "cell_type": "code",
   "execution_count": 88,
   "metadata": {},
   "outputs": [
    {
     "name": "stdout",
     "output_type": "stream",
     "text": [
      "Optimization Progress:  33%|███▎      | 100/300 [21:02<32:49,  9.85s/pipeline] \n",
      "Optimization Progress:  50%|█████     | 150/300 [36:14<27:46, 11.11s/pipeline]  \n",
      "Optimization Progress:  67%|██████▋   | 200/300 [55:57<28:07, 16.88s/pipeline]  \n",
      "Optimization Progress:  83%|████████▎ | 250/300 [1:20:22<20:30, 24.60s/pipeline]  \n",
      "Optimization Progress: 100%|██████████| 300/300 [2:01:19<00:00, 59.18s/pipeline]\n",
      "                                                                                \n",
      "Best pipeline: XGBRegressor(RandomForestRegressor(input_matrix, bootstrap=False, max_features=0.8, min_samples_leaf=2, min_samples_split=6, n_estimators=100), learning_rate=0.1, max_depth=6, min_child_weight=15, n_estimators=100, nthread=1, objective=reg:squarederror, subsample=0.35000000000000003)\n",
      "-9.061049067611083e-05\n",
      "MSE:9.061049067611083e-05 \n",
      "MAE:0.005661507077853518 \n",
      "R2:0.9712870893367224\n"
     ]
    },
    {
     "data": {
      "text/plain": [
       "(None, '\\n', None)"
      ]
     },
     "execution_count": 88,
     "metadata": {},
     "output_type": "execute_result"
    }
   ],
   "source": [
    "tpot(X_train_real,X_test_real,y_train_real,y_test_real,'nadal_1_dir_real')"
   ]
  },
  {
   "cell_type": "markdown",
   "metadata": {},
   "source": [
    "### Nadal_2_esq"
   ]
  },
  {
   "cell_type": "code",
   "execution_count": 89,
   "metadata": {},
   "outputs": [],
   "source": [
    "X_train_tudo,X_test_tudo,y_train_tudo,y_test_tudo=train_test_split(x_tudo_100,y_nadal_2_esq_100,test_size=0.3)"
   ]
  },
  {
   "cell_type": "code",
   "execution_count": 90,
   "metadata": {},
   "outputs": [],
   "source": [
    "X_train_real,X_test_real,y_train_real,y_test_real=train_test_split(x_real_100,y_nadal_2_esq_100,test_size=0.3)"
   ]
  },
  {
   "cell_type": "code",
   "execution_count": null,
   "metadata": {},
   "outputs": [
    {
     "name": "stdout",
     "output_type": "stream",
     "text": [
      "Optimization Progress:  34%|███▎      | 101/300 [1:02:35<1:02:51, 18.95s/pipeline]\n",
      "Optimization Progress:  37%|███▋      | 111/300 [1:09:32<2:25:40, 46.25s/pipeline]"
     ]
    }
   ],
   "source": [
    "tpot(X_train_tudo,X_test_tudo,y_train_tudo,y_test_tudo,'nadal_2_esq_tudo')"
   ]
  },
  {
   "cell_type": "code",
   "execution_count": null,
   "metadata": {},
   "outputs": [],
   "source": [
    "tpot(X_train_real,X_test_real,y_train_real,y_test_real,'nadal_2_esq_real')"
   ]
  },
  {
   "cell_type": "markdown",
   "metadata": {},
   "source": [
    "### Nadal_2_dir"
   ]
  },
  {
   "cell_type": "code",
   "execution_count": null,
   "metadata": {},
   "outputs": [],
   "source": [
    "X_train_tudo,X_test_tudo,y_train_tudo,y_test_tudo=train_test_split(x_tudo_100,y_nadal_2_dir_100,test_size=0.3)"
   ]
  },
  {
   "cell_type": "code",
   "execution_count": null,
   "metadata": {},
   "outputs": [],
   "source": [
    "X_train_real,X_test_real,y_train_real,y_test_real=train_test_split(x_real_100,y_nadal_2_dir_100,test_size=0.3)"
   ]
  },
  {
   "cell_type": "code",
   "execution_count": null,
   "metadata": {},
   "outputs": [],
   "source": [
    "tpot(X_train_tudo,X_test_tudo,y_train_tudo,y_test_tudo,'nadal_2_dir_tudo')"
   ]
  },
  {
   "cell_type": "code",
   "execution_count": null,
   "metadata": {},
   "outputs": [],
   "source": [
    "tpot(X_train_real,X_test_real,y_train_real,y_test_real,'nadal_2_dir_real')"
   ]
  },
  {
   "cell_type": "markdown",
   "metadata": {
    "collapsed": "true"
   },
   "source": [
    "## 1Hz Tpot"
   ]
  },
  {
   "cell_type": "markdown",
   "metadata": {},
   "source": [
    "### Nadal_1_esq"
   ]
  },
  {
   "cell_type": "code",
   "execution_count": 161,
   "metadata": {},
   "outputs": [],
   "source": [
    "X_train_tudo,X_test_tudo,y_train_tudo,y_test_tudo=train_test_split(x_tudo_1,y_nadal_1_esq_1,test_size=0.3)"
   ]
  },
  {
   "cell_type": "code",
   "execution_count": 162,
   "metadata": {},
   "outputs": [],
   "source": [
    "X_train_real,X_test_real,y_train_real,y_test_real=train_test_split(x_real_1,y_nadal_1_esq_1,test_size=0.3)"
   ]
  },
  {
   "cell_type": "code",
   "execution_count": null,
   "metadata": {},
   "outputs": [],
   "source": [
    "tpot(X_train_tudo,X_test_tudo,y_train_tudo,y_test_rudo,'nadal_1_esq_tudo_1')"
   ]
  },
  {
   "cell_type": "code",
   "execution_count": 165,
   "metadata": {},
   "outputs": [
    {
     "name": "stdout",
     "output_type": "stream",
     "text": [
      "                                                                            \n",
      "                                                                            \n",
      "TPOT closed during evaluation in one generation.\n",
      "WARNING: TPOT may not provide a good pipeline if TPOT is stopped/interrupted in a early generation.\n",
      "                                                                            \n",
      "                                                                            \n",
      "TPOT closed prematurely. Will use the current best pipeline.\n",
      "                                                                            \n",
      "Best pipeline: RandomForestRegressor(input_matrix, bootstrap=True, max_features=0.7500000000000001, min_samples_leaf=11, min_samples_split=9, n_estimators=100)\n",
      "-6.780401713721122e-05\n",
      "MSE:6.780401713721122e-05 \n",
      "MAE:0.0038441531378675792 \n",
      "R2:0.9786980768245297\n"
     ]
    },
    {
     "data": {
      "text/plain": [
       "(None, '\\n', None)"
      ]
     },
     "execution_count": 165,
     "metadata": {},
     "output_type": "execute_result"
    }
   ],
   "source": [
    "tpot(X_train_real,X_test_real,y_train_real,y_test_real,'nadal_1_esq_real_1')"
   ]
  },
  {
   "cell_type": "markdown",
   "metadata": {},
   "source": [
    "### Nadal 1 dir"
   ]
  },
  {
   "cell_type": "code",
   "execution_count": 168,
   "metadata": {},
   "outputs": [],
   "source": [
    "X_train_tudo,X_test_tudo,y_train_tudo,y_test_tudo=train_test_split(x_tudo_1,y_nadal_1_dir_1,test_size=0.3)"
   ]
  },
  {
   "cell_type": "code",
   "execution_count": 84,
   "metadata": {},
   "outputs": [],
   "source": [
    "X_train_real,X_test_real,y_train_real,y_test_real=train_test_split(x_real_1,y_nadal_1_dir_1,test_size=0.3)"
   ]
  },
  {
   "cell_type": "code",
   "execution_count": null,
   "metadata": {},
   "outputs": [],
   "source": [
    "tpot(X_train_tudo,X_test_tudo,y_train_tudo,y_test_rudo,'nadal_1_dir_tudo_1')"
   ]
  },
  {
   "cell_type": "code",
   "execution_count": 165,
   "metadata": {},
   "outputs": [
    {
     "name": "stdout",
     "output_type": "stream",
     "text": [
      "                                                                            \n",
      "                                                                            \n",
      "TPOT closed during evaluation in one generation.\n",
      "WARNING: TPOT may not provide a good pipeline if TPOT is stopped/interrupted in a early generation.\n",
      "                                                                            \n",
      "                                                                            \n",
      "TPOT closed prematurely. Will use the current best pipeline.\n",
      "                                                                            \n",
      "Best pipeline: RandomForestRegressor(input_matrix, bootstrap=True, max_features=0.7500000000000001, min_samples_leaf=11, min_samples_split=9, n_estimators=100)\n",
      "-6.780401713721122e-05\n",
      "MSE:6.780401713721122e-05 \n",
      "MAE:0.0038441531378675792 \n",
      "R2:0.9786980768245297\n"
     ]
    },
    {
     "data": {
      "text/plain": [
       "(None, '\\n', None)"
      ]
     },
     "execution_count": 165,
     "metadata": {},
     "output_type": "execute_result"
    }
   ],
   "source": [
    "tpot(X_train_real,X_test_real,y_train_real,y_test_real,'nadal_1_dir_real_1')"
   ]
  },
  {
   "cell_type": "markdown",
   "metadata": {},
   "source": [
    "### Nadal_2_esq"
   ]
  },
  {
   "cell_type": "code",
   "execution_count": 173,
   "metadata": {},
   "outputs": [],
   "source": [
    "X_train_tudo,X_test_tudo,y_train_tudo,y_test_tudo=train_test_split(x_tudo_1,y_nadal_2_esq_1,test_size=0.3)"
   ]
  },
  {
   "cell_type": "code",
   "execution_count": 174,
   "metadata": {},
   "outputs": [],
   "source": [
    "X_train_real,X_test_real,y_train_real,y_test_real=train_test_split(x_real_1,y_nadal_2_esq_1,test_size=0.3)"
   ]
  },
  {
   "cell_type": "code",
   "execution_count": null,
   "metadata": {},
   "outputs": [],
   "source": [
    "tpot(X_train_tudo,X_test_tudo,y_train_tudo,y_test_rudo,'nadal_2_esq_tudo_1')"
   ]
  },
  {
   "cell_type": "code",
   "execution_count": 165,
   "metadata": {},
   "outputs": [
    {
     "name": "stdout",
     "output_type": "stream",
     "text": [
      "                                                                            \n",
      "                                                                            \n",
      "TPOT closed during evaluation in one generation.\n",
      "WARNING: TPOT may not provide a good pipeline if TPOT is stopped/interrupted in a early generation.\n",
      "                                                                            \n",
      "                                                                            \n",
      "TPOT closed prematurely. Will use the current best pipeline.\n",
      "                                                                            \n",
      "Best pipeline: RandomForestRegressor(input_matrix, bootstrap=True, max_features=0.7500000000000001, min_samples_leaf=11, min_samples_split=9, n_estimators=100)\n",
      "-6.780401713721122e-05\n",
      "MSE:6.780401713721122e-05 \n",
      "MAE:0.0038441531378675792 \n",
      "R2:0.9786980768245297\n"
     ]
    },
    {
     "data": {
      "text/plain": [
       "(None, '\\n', None)"
      ]
     },
     "execution_count": 165,
     "metadata": {},
     "output_type": "execute_result"
    }
   ],
   "source": [
    "tpot(X_train_real,X_test_real,y_train_real,y_test_real,'nadal_2_esq_real_1')"
   ]
  },
  {
   "cell_type": "markdown",
   "metadata": {},
   "source": [
    "### Nadal_2_dir"
   ]
  },
  {
   "cell_type": "code",
   "execution_count": 178,
   "metadata": {},
   "outputs": [],
   "source": [
    "X_train_tudo,X_test_tudo,y_train_tudo,y_test_tudo=train_test_split(x_tudo_1,y_nadal_2_dir_1,test_size=0.3)"
   ]
  },
  {
   "cell_type": "code",
   "execution_count": 179,
   "metadata": {},
   "outputs": [],
   "source": [
    "X_train_real,X_test_real,y_train_real,y_test_real=train_test_split(x_real_1,y_nadal_2_dir_1,test_size=0.3)"
   ]
  },
  {
   "cell_type": "code",
   "execution_count": null,
   "metadata": {},
   "outputs": [],
   "source": [
    "tpot(X_train_tudo,X_test_tudo,y_train_tudo,y_test_rudo,'nadal_2_dir_tudo_1')"
   ]
  },
  {
   "cell_type": "code",
   "execution_count": 182,
   "metadata": {
    "collapsed": true,
    "jupyter": {
     "outputs_hidden": true
    }
   },
   "outputs": [
    {
     "name": "stdout",
     "output_type": "stream",
     "text": [
      "                                                                    \n",
      "                                                                            \n",
      "TPOT closed during evaluation in one generation.\n",
      "WARNING: TPOT may not provide a good pipeline if TPOT is stopped/interrupted in a early generation.\n",
      "                                                                            \n",
      "                                                                            \n",
      "TPOT closed prematurely. Will use the current best pipeline.\n",
      "                                                                            \r"
     ]
    },
    {
     "ename": "RuntimeError",
     "evalue": "A pipeline has not yet been optimized. Please call fit() first.",
     "output_type": "error",
     "traceback": [
      "\u001b[0;31m---------------------------------------------------------------------------\u001b[0m",
      "\u001b[0;31mRuntimeError\u001b[0m                              Traceback (most recent call last)",
      "\u001b[0;32m<ipython-input-182-6dcea5d0cd7b>\u001b[0m in \u001b[0;36m<module>\u001b[0;34m\u001b[0m\n\u001b[0;32m----> 1\u001b[0;31m \u001b[0mtpot\u001b[0m\u001b[0;34m(\u001b[0m\u001b[0mX_train_real\u001b[0m\u001b[0;34m,\u001b[0m\u001b[0mX_test_real\u001b[0m\u001b[0;34m,\u001b[0m\u001b[0my_train_real\u001b[0m\u001b[0;34m,\u001b[0m\u001b[0my_test_real\u001b[0m\u001b[0;34m,\u001b[0m\u001b[0;34m'nadal_2_dir_real'\u001b[0m\u001b[0;34m)\u001b[0m\u001b[0;34m\u001b[0m\u001b[0;34m\u001b[0m\u001b[0m\n\u001b[0m",
      "\u001b[0;32m<ipython-input-27-0620af004b9e>\u001b[0m in \u001b[0;36mtpot\u001b[0;34m(X_train, X_test, y_train, y_test, nome)\u001b[0m\n\u001b[1;32m      1\u001b[0m \u001b[0;32mdef\u001b[0m \u001b[0mtpot\u001b[0m\u001b[0;34m(\u001b[0m\u001b[0mX_train\u001b[0m\u001b[0;34m,\u001b[0m\u001b[0mX_test\u001b[0m\u001b[0;34m,\u001b[0m\u001b[0my_train\u001b[0m\u001b[0;34m,\u001b[0m\u001b[0my_test\u001b[0m\u001b[0;34m,\u001b[0m\u001b[0mnome\u001b[0m\u001b[0;34m)\u001b[0m\u001b[0;34m:\u001b[0m\u001b[0;34m\u001b[0m\u001b[0;34m\u001b[0m\u001b[0m\n\u001b[1;32m      2\u001b[0m     \u001b[0mpipeline_optimizer\u001b[0m \u001b[0;34m=\u001b[0m \u001b[0mTPOTRegressor\u001b[0m\u001b[0;34m(\u001b[0m\u001b[0mgenerations\u001b[0m\u001b[0;34m=\u001b[0m\u001b[0;36m5\u001b[0m\u001b[0;34m,\u001b[0m \u001b[0mpopulation_size\u001b[0m\u001b[0;34m=\u001b[0m\u001b[0;36m50\u001b[0m\u001b[0;34m,\u001b[0m \u001b[0mcv\u001b[0m\u001b[0;34m=\u001b[0m\u001b[0;36m5\u001b[0m\u001b[0;34m,\u001b[0m \u001b[0mrandom_state\u001b[0m\u001b[0;34m=\u001b[0m\u001b[0;36m42\u001b[0m\u001b[0;34m,\u001b[0m \u001b[0mverbosity\u001b[0m\u001b[0;34m=\u001b[0m\u001b[0;36m2\u001b[0m\u001b[0;34m)\u001b[0m\u001b[0;34m\u001b[0m\u001b[0;34m\u001b[0m\u001b[0m\n\u001b[0;32m----> 3\u001b[0;31m     \u001b[0mpipeline_optimizer\u001b[0m\u001b[0;34m.\u001b[0m\u001b[0mfit\u001b[0m\u001b[0;34m(\u001b[0m\u001b[0mX_train\u001b[0m\u001b[0;34m,\u001b[0m \u001b[0my_train\u001b[0m\u001b[0;34m)\u001b[0m\u001b[0;34m\u001b[0m\u001b[0;34m\u001b[0m\u001b[0m\n\u001b[0m\u001b[1;32m      4\u001b[0m     \u001b[0mpredict\u001b[0m\u001b[0;34m=\u001b[0m\u001b[0mpipeline_optimizer\u001b[0m\u001b[0;34m.\u001b[0m\u001b[0mpredict\u001b[0m\u001b[0;34m(\u001b[0m\u001b[0mX_test\u001b[0m\u001b[0;34m)\u001b[0m\u001b[0;34m\u001b[0m\u001b[0;34m\u001b[0m\u001b[0m\n\u001b[1;32m      5\u001b[0m     \u001b[0mpipeline_optimizer\u001b[0m\u001b[0;34m.\u001b[0m\u001b[0mexport\u001b[0m\u001b[0;34m(\u001b[0m\u001b[0mnome\u001b[0m\u001b[0;34m)\u001b[0m\u001b[0;34m\u001b[0m\u001b[0;34m\u001b[0m\u001b[0m\n",
      "\u001b[0;32m~/miniconda3/lib/python3.7/site-packages/tpot/base.py\u001b[0m in \u001b[0;36mfit\u001b[0;34m(self, features, target, sample_weight, groups)\u001b[0m\n\u001b[1;32m    754\u001b[0m                     \u001b[0;31m# raise the exception if it's our last attempt\u001b[0m\u001b[0;34m\u001b[0m\u001b[0;34m\u001b[0m\u001b[0;34m\u001b[0m\u001b[0m\n\u001b[1;32m    755\u001b[0m                     \u001b[0;32mif\u001b[0m \u001b[0mattempt\u001b[0m \u001b[0;34m==\u001b[0m \u001b[0;34m(\u001b[0m\u001b[0mattempts\u001b[0m \u001b[0;34m-\u001b[0m \u001b[0;36m1\u001b[0m\u001b[0;34m)\u001b[0m\u001b[0;34m:\u001b[0m\u001b[0;34m\u001b[0m\u001b[0;34m\u001b[0m\u001b[0m\n\u001b[0;32m--> 756\u001b[0;31m                         \u001b[0;32mraise\u001b[0m \u001b[0me\u001b[0m\u001b[0;34m\u001b[0m\u001b[0;34m\u001b[0m\u001b[0m\n\u001b[0m\u001b[1;32m    757\u001b[0m             \u001b[0;32mreturn\u001b[0m \u001b[0mself\u001b[0m\u001b[0;34m\u001b[0m\u001b[0;34m\u001b[0m\u001b[0m\n\u001b[1;32m    758\u001b[0m \u001b[0;34m\u001b[0m\u001b[0m\n",
      "\u001b[0;32m~/miniconda3/lib/python3.7/site-packages/tpot/base.py\u001b[0m in \u001b[0;36mfit\u001b[0;34m(self, features, target, sample_weight, groups)\u001b[0m\n\u001b[1;32m    745\u001b[0m                         \u001b[0mself\u001b[0m\u001b[0;34m.\u001b[0m\u001b[0m_pbar\u001b[0m\u001b[0;34m.\u001b[0m\u001b[0mclose\u001b[0m\u001b[0;34m(\u001b[0m\u001b[0;34m)\u001b[0m\u001b[0;34m\u001b[0m\u001b[0;34m\u001b[0m\u001b[0m\n\u001b[1;32m    746\u001b[0m \u001b[0;34m\u001b[0m\u001b[0m\n\u001b[0;32m--> 747\u001b[0;31m                     \u001b[0mself\u001b[0m\u001b[0;34m.\u001b[0m\u001b[0m_update_top_pipeline\u001b[0m\u001b[0;34m(\u001b[0m\u001b[0;34m)\u001b[0m\u001b[0;34m\u001b[0m\u001b[0;34m\u001b[0m\u001b[0m\n\u001b[0m\u001b[1;32m    748\u001b[0m                     \u001b[0mself\u001b[0m\u001b[0;34m.\u001b[0m\u001b[0m_summary_of_best_pipeline\u001b[0m\u001b[0;34m(\u001b[0m\u001b[0mfeatures\u001b[0m\u001b[0;34m,\u001b[0m \u001b[0mtarget\u001b[0m\u001b[0;34m)\u001b[0m\u001b[0;34m\u001b[0m\u001b[0;34m\u001b[0m\u001b[0m\n\u001b[1;32m    749\u001b[0m                     \u001b[0;31m# Delete the temporary cache before exiting\u001b[0m\u001b[0;34m\u001b[0m\u001b[0;34m\u001b[0m\u001b[0;34m\u001b[0m\u001b[0m\n",
      "\u001b[0;32m~/miniconda3/lib/python3.7/site-packages/tpot/base.py\u001b[0m in \u001b[0;36m_update_top_pipeline\u001b[0;34m(self)\u001b[0m\n\u001b[1;32m    827\u001b[0m             \u001b[0;31m# If user passes CTRL+C in initial generation, self._pareto_front (halloffame) shoule be not updated yet.\u001b[0m\u001b[0;34m\u001b[0m\u001b[0;34m\u001b[0m\u001b[0;34m\u001b[0m\u001b[0m\n\u001b[1;32m    828\u001b[0m             \u001b[0;31m# need raise RuntimeError because no pipeline has been optimized\u001b[0m\u001b[0;34m\u001b[0m\u001b[0;34m\u001b[0m\u001b[0;34m\u001b[0m\u001b[0m\n\u001b[0;32m--> 829\u001b[0;31m             \u001b[0;32mraise\u001b[0m \u001b[0mRuntimeError\u001b[0m\u001b[0;34m(\u001b[0m\u001b[0;34m'A pipeline has not yet been optimized. Please call fit() first.'\u001b[0m\u001b[0;34m)\u001b[0m\u001b[0;34m\u001b[0m\u001b[0;34m\u001b[0m\u001b[0m\n\u001b[0m\u001b[1;32m    830\u001b[0m \u001b[0;34m\u001b[0m\u001b[0m\n\u001b[1;32m    831\u001b[0m     \u001b[0;32mdef\u001b[0m \u001b[0m_summary_of_best_pipeline\u001b[0m\u001b[0;34m(\u001b[0m\u001b[0mself\u001b[0m\u001b[0;34m,\u001b[0m \u001b[0mfeatures\u001b[0m\u001b[0;34m,\u001b[0m \u001b[0mtarget\u001b[0m\u001b[0;34m)\u001b[0m\u001b[0;34m:\u001b[0m\u001b[0;34m\u001b[0m\u001b[0;34m\u001b[0m\u001b[0m\n",
      "\u001b[0;31mRuntimeError\u001b[0m: A pipeline has not yet been optimized. Please call fit() first."
     ]
    }
   ],
   "source": [
    "tpot(X_train_real,X_test_real,y_train_real,y_test_real,'nadal_2_dir_real_1')"
   ]
  },
  {
   "cell_type": "markdown",
   "metadata": {
    "collapsed": "true"
   },
   "source": [
    "## 100Hz sem Tpot"
   ]
  },
  {
   "cell_type": "markdown",
   "metadata": {},
   "source": [
    "### Nadal_1_esq"
   ]
  },
  {
   "cell_type": "code",
   "execution_count": 161,
   "metadata": {},
   "outputs": [],
   "source": [
    "X_train_tudo,X_test_tudo,y_train_tudo,y_test_tudo=train_test_split(x_tudo_100_no,y_nadal_1_esq_100_no,test_size=0.3)"
   ]
  },
  {
   "cell_type": "code",
   "execution_count": 162,
   "metadata": {},
   "outputs": [],
   "source": [
    "X_train_real,X_test_real,y_train_real,y_test_real=train_test_split(x_real_100_no,y_nadal_1_esq_100_no,test_size=0.3)"
   ]
  },
  {
   "cell_type": "code",
   "execution_count": null,
   "metadata": {},
   "outputs": [],
   "source": [
    "tpot(X_train_tudo,X_test_tudo,y_train_tudo,y_test_rudo,'nadal_1_esq_tudo_100_no')"
   ]
  },
  {
   "cell_type": "code",
   "execution_count": 165,
   "metadata": {},
   "outputs": [
    {
     "name": "stdout",
     "output_type": "stream",
     "text": [
      "                                                                            \n",
      "                                                                            \n",
      "TPOT closed during evaluation in one generation.\n",
      "WARNING: TPOT may not provide a good pipeline if TPOT is stopped/interrupted in a early generation.\n",
      "                                                                            \n",
      "                                                                            \n",
      "TPOT closed prematurely. Will use the current best pipeline.\n",
      "                                                                            \n",
      "Best pipeline: RandomForestRegressor(input_matrix, bootstrap=True, max_features=0.7500000000000001, min_samples_leaf=11, min_samples_split=9, n_estimators=100)\n",
      "-6.780401713721122e-05\n",
      "MSE:6.780401713721122e-05 \n",
      "MAE:0.0038441531378675792 \n",
      "R2:0.9786980768245297\n"
     ]
    },
    {
     "data": {
      "text/plain": [
       "(None, '\\n', None)"
      ]
     },
     "execution_count": 165,
     "metadata": {},
     "output_type": "execute_result"
    }
   ],
   "source": [
    "tpot(X_train_real,X_test_real,y_train_real,y_test_real,'nadal_1_esq_real_100_no')"
   ]
  },
  {
   "cell_type": "markdown",
   "metadata": {},
   "source": [
    "### Nadal 1 dir"
   ]
  },
  {
   "cell_type": "code",
   "execution_count": 168,
   "metadata": {},
   "outputs": [],
   "source": [
    "X_train_tudo,X_test_tudo,y_train_tudo,y_test_tudo=train_test_split(x_tudo_100_no,y_nadal_1_dir_100_no,test_size=0.3)"
   ]
  },
  {
   "cell_type": "code",
   "execution_count": 169,
   "metadata": {},
   "outputs": [],
   "source": [
    "X_train_real,X_test_real,y_train_real,y_test_real=train_test_split(x_real_100_no,y_nadal_1_dir_100_no,test_size=0.3)"
   ]
  },
  {
   "cell_type": "code",
   "execution_count": null,
   "metadata": {},
   "outputs": [],
   "source": [
    "tpot(X_train_tudo,X_test_tudo,y_train_tudo,y_test_rudo,'nadal_1_dir_tudo_100_no')"
   ]
  },
  {
   "cell_type": "code",
   "execution_count": 165,
   "metadata": {},
   "outputs": [
    {
     "name": "stdout",
     "output_type": "stream",
     "text": [
      "                                                                            \n",
      "                                                                            \n",
      "TPOT closed during evaluation in one generation.\n",
      "WARNING: TPOT may not provide a good pipeline if TPOT is stopped/interrupted in a early generation.\n",
      "                                                                            \n",
      "                                                                            \n",
      "TPOT closed prematurely. Will use the current best pipeline.\n",
      "                                                                            \n",
      "Best pipeline: RandomForestRegressor(input_matrix, bootstrap=True, max_features=0.7500000000000001, min_samples_leaf=11, min_samples_split=9, n_estimators=100)\n",
      "-6.780401713721122e-05\n",
      "MSE:6.780401713721122e-05 \n",
      "MAE:0.0038441531378675792 \n",
      "R2:0.9786980768245297\n"
     ]
    },
    {
     "data": {
      "text/plain": [
       "(None, '\\n', None)"
      ]
     },
     "execution_count": 165,
     "metadata": {},
     "output_type": "execute_result"
    }
   ],
   "source": [
    "tpot(X_train_real,X_test_real,y_train_real,y_test_real,'nadal_1_dir_real_100_no')"
   ]
  },
  {
   "cell_type": "markdown",
   "metadata": {},
   "source": [
    "### Nadal_2_esq"
   ]
  },
  {
   "cell_type": "code",
   "execution_count": 173,
   "metadata": {},
   "outputs": [],
   "source": [
    "X_train_tudo,X_test_tudo,y_train_tudo,y_test_tudo=train_test_split(x_tudo_100_no,y_nadal_2_esq_100_no,test_size=0.3)"
   ]
  },
  {
   "cell_type": "code",
   "execution_count": 174,
   "metadata": {},
   "outputs": [],
   "source": [
    "X_train_real,X_test_real,y_train_real,y_test_real=train_test_split(x_real_100_no,y_nadal_2_esq_100_no,test_size=0.3)"
   ]
  },
  {
   "cell_type": "code",
   "execution_count": null,
   "metadata": {},
   "outputs": [],
   "source": [
    "tpot(X_train_tudo,X_test_tudo,y_train_tudo,y_test_rudo,'nadal_2_esq_tudo_100_no')"
   ]
  },
  {
   "cell_type": "code",
   "execution_count": 165,
   "metadata": {},
   "outputs": [
    {
     "name": "stdout",
     "output_type": "stream",
     "text": [
      "                                                                            \n",
      "                                                                            \n",
      "TPOT closed during evaluation in one generation.\n",
      "WARNING: TPOT may not provide a good pipeline if TPOT is stopped/interrupted in a early generation.\n",
      "                                                                            \n",
      "                                                                            \n",
      "TPOT closed prematurely. Will use the current best pipeline.\n",
      "                                                                            \n",
      "Best pipeline: RandomForestRegressor(input_matrix, bootstrap=True, max_features=0.7500000000000001, min_samples_leaf=11, min_samples_split=9, n_estimators=100)\n",
      "-6.780401713721122e-05\n",
      "MSE:6.780401713721122e-05 \n",
      "MAE:0.0038441531378675792 \n",
      "R2:0.9786980768245297\n"
     ]
    },
    {
     "data": {
      "text/plain": [
       "(None, '\\n', None)"
      ]
     },
     "execution_count": 165,
     "metadata": {},
     "output_type": "execute_result"
    }
   ],
   "source": [
    "tpot(X_train_real,X_test_real,y_train_real,y_test_real,'nadal_2_esq_real_100_no')"
   ]
  },
  {
   "cell_type": "markdown",
   "metadata": {},
   "source": [
    "### Nadal_2_dir"
   ]
  },
  {
   "cell_type": "code",
   "execution_count": 178,
   "metadata": {},
   "outputs": [],
   "source": [
    "X_train_tudo,X_test_tudo,y_train_tudo,y_test_tudo=train_test_split(x_tudo_100_no,y_nadal_2_dir_100_no,test_size=0.3)"
   ]
  },
  {
   "cell_type": "code",
   "execution_count": 179,
   "metadata": {},
   "outputs": [],
   "source": [
    "X_train_real,X_test_real,y_train_real,y_test_real=train_test_split(x_real_100_no,y_nadal_2_dir_100_no,test_size=0.3)"
   ]
  },
  {
   "cell_type": "code",
   "execution_count": null,
   "metadata": {},
   "outputs": [],
   "source": [
    "tpot(X_train_tudo,X_test_tudo,y_train_tudo,y_test_rudo,'nadal_2_dir_tudo_100_no')"
   ]
  },
  {
   "cell_type": "code",
   "execution_count": 182,
   "metadata": {
    "collapsed": true,
    "jupyter": {
     "outputs_hidden": true
    }
   },
   "outputs": [
    {
     "name": "stdout",
     "output_type": "stream",
     "text": [
      "                                                                    \n",
      "                                                                            \n",
      "TPOT closed during evaluation in one generation.\n",
      "WARNING: TPOT may not provide a good pipeline if TPOT is stopped/interrupted in a early generation.\n",
      "                                                                            \n",
      "                                                                            \n",
      "TPOT closed prematurely. Will use the current best pipeline.\n",
      "                                                                            \r"
     ]
    },
    {
     "ename": "RuntimeError",
     "evalue": "A pipeline has not yet been optimized. Please call fit() first.",
     "output_type": "error",
     "traceback": [
      "\u001b[0;31m---------------------------------------------------------------------------\u001b[0m",
      "\u001b[0;31mRuntimeError\u001b[0m                              Traceback (most recent call last)",
      "\u001b[0;32m<ipython-input-182-6dcea5d0cd7b>\u001b[0m in \u001b[0;36m<module>\u001b[0;34m\u001b[0m\n\u001b[0;32m----> 1\u001b[0;31m \u001b[0mtpot\u001b[0m\u001b[0;34m(\u001b[0m\u001b[0mX_train_real\u001b[0m\u001b[0;34m,\u001b[0m\u001b[0mX_test_real\u001b[0m\u001b[0;34m,\u001b[0m\u001b[0my_train_real\u001b[0m\u001b[0;34m,\u001b[0m\u001b[0my_test_real\u001b[0m\u001b[0;34m,\u001b[0m\u001b[0;34m'nadal_2_dir_real'\u001b[0m\u001b[0;34m)\u001b[0m\u001b[0;34m\u001b[0m\u001b[0;34m\u001b[0m\u001b[0m\n\u001b[0m",
      "\u001b[0;32m<ipython-input-27-0620af004b9e>\u001b[0m in \u001b[0;36mtpot\u001b[0;34m(X_train, X_test, y_train, y_test, nome)\u001b[0m\n\u001b[1;32m      1\u001b[0m \u001b[0;32mdef\u001b[0m \u001b[0mtpot\u001b[0m\u001b[0;34m(\u001b[0m\u001b[0mX_train\u001b[0m\u001b[0;34m,\u001b[0m\u001b[0mX_test\u001b[0m\u001b[0;34m,\u001b[0m\u001b[0my_train\u001b[0m\u001b[0;34m,\u001b[0m\u001b[0my_test\u001b[0m\u001b[0;34m,\u001b[0m\u001b[0mnome\u001b[0m\u001b[0;34m)\u001b[0m\u001b[0;34m:\u001b[0m\u001b[0;34m\u001b[0m\u001b[0;34m\u001b[0m\u001b[0m\n\u001b[1;32m      2\u001b[0m     \u001b[0mpipeline_optimizer\u001b[0m \u001b[0;34m=\u001b[0m \u001b[0mTPOTRegressor\u001b[0m\u001b[0;34m(\u001b[0m\u001b[0mgenerations\u001b[0m\u001b[0;34m=\u001b[0m\u001b[0;36m5\u001b[0m\u001b[0;34m,\u001b[0m \u001b[0mpopulation_size\u001b[0m\u001b[0;34m=\u001b[0m\u001b[0;36m50\u001b[0m\u001b[0;34m,\u001b[0m \u001b[0mcv\u001b[0m\u001b[0;34m=\u001b[0m\u001b[0;36m5\u001b[0m\u001b[0;34m,\u001b[0m \u001b[0mrandom_state\u001b[0m\u001b[0;34m=\u001b[0m\u001b[0;36m42\u001b[0m\u001b[0;34m,\u001b[0m \u001b[0mverbosity\u001b[0m\u001b[0;34m=\u001b[0m\u001b[0;36m2\u001b[0m\u001b[0;34m)\u001b[0m\u001b[0;34m\u001b[0m\u001b[0;34m\u001b[0m\u001b[0m\n\u001b[0;32m----> 3\u001b[0;31m     \u001b[0mpipeline_optimizer\u001b[0m\u001b[0;34m.\u001b[0m\u001b[0mfit\u001b[0m\u001b[0;34m(\u001b[0m\u001b[0mX_train\u001b[0m\u001b[0;34m,\u001b[0m \u001b[0my_train\u001b[0m\u001b[0;34m)\u001b[0m\u001b[0;34m\u001b[0m\u001b[0;34m\u001b[0m\u001b[0m\n\u001b[0m\u001b[1;32m      4\u001b[0m     \u001b[0mpredict\u001b[0m\u001b[0;34m=\u001b[0m\u001b[0mpipeline_optimizer\u001b[0m\u001b[0;34m.\u001b[0m\u001b[0mpredict\u001b[0m\u001b[0;34m(\u001b[0m\u001b[0mX_test\u001b[0m\u001b[0;34m)\u001b[0m\u001b[0;34m\u001b[0m\u001b[0;34m\u001b[0m\u001b[0m\n\u001b[1;32m      5\u001b[0m     \u001b[0mpipeline_optimizer\u001b[0m\u001b[0;34m.\u001b[0m\u001b[0mexport\u001b[0m\u001b[0;34m(\u001b[0m\u001b[0mnome\u001b[0m\u001b[0;34m)\u001b[0m\u001b[0;34m\u001b[0m\u001b[0;34m\u001b[0m\u001b[0m\n",
      "\u001b[0;32m~/miniconda3/lib/python3.7/site-packages/tpot/base.py\u001b[0m in \u001b[0;36mfit\u001b[0;34m(self, features, target, sample_weight, groups)\u001b[0m\n\u001b[1;32m    754\u001b[0m                     \u001b[0;31m# raise the exception if it's our last attempt\u001b[0m\u001b[0;34m\u001b[0m\u001b[0;34m\u001b[0m\u001b[0;34m\u001b[0m\u001b[0m\n\u001b[1;32m    755\u001b[0m                     \u001b[0;32mif\u001b[0m \u001b[0mattempt\u001b[0m \u001b[0;34m==\u001b[0m \u001b[0;34m(\u001b[0m\u001b[0mattempts\u001b[0m \u001b[0;34m-\u001b[0m \u001b[0;36m1\u001b[0m\u001b[0;34m)\u001b[0m\u001b[0;34m:\u001b[0m\u001b[0;34m\u001b[0m\u001b[0;34m\u001b[0m\u001b[0m\n\u001b[0;32m--> 756\u001b[0;31m                         \u001b[0;32mraise\u001b[0m \u001b[0me\u001b[0m\u001b[0;34m\u001b[0m\u001b[0;34m\u001b[0m\u001b[0m\n\u001b[0m\u001b[1;32m    757\u001b[0m             \u001b[0;32mreturn\u001b[0m \u001b[0mself\u001b[0m\u001b[0;34m\u001b[0m\u001b[0;34m\u001b[0m\u001b[0m\n\u001b[1;32m    758\u001b[0m \u001b[0;34m\u001b[0m\u001b[0m\n",
      "\u001b[0;32m~/miniconda3/lib/python3.7/site-packages/tpot/base.py\u001b[0m in \u001b[0;36mfit\u001b[0;34m(self, features, target, sample_weight, groups)\u001b[0m\n\u001b[1;32m    745\u001b[0m                         \u001b[0mself\u001b[0m\u001b[0;34m.\u001b[0m\u001b[0m_pbar\u001b[0m\u001b[0;34m.\u001b[0m\u001b[0mclose\u001b[0m\u001b[0;34m(\u001b[0m\u001b[0;34m)\u001b[0m\u001b[0;34m\u001b[0m\u001b[0;34m\u001b[0m\u001b[0m\n\u001b[1;32m    746\u001b[0m \u001b[0;34m\u001b[0m\u001b[0m\n\u001b[0;32m--> 747\u001b[0;31m                     \u001b[0mself\u001b[0m\u001b[0;34m.\u001b[0m\u001b[0m_update_top_pipeline\u001b[0m\u001b[0;34m(\u001b[0m\u001b[0;34m)\u001b[0m\u001b[0;34m\u001b[0m\u001b[0;34m\u001b[0m\u001b[0m\n\u001b[0m\u001b[1;32m    748\u001b[0m                     \u001b[0mself\u001b[0m\u001b[0;34m.\u001b[0m\u001b[0m_summary_of_best_pipeline\u001b[0m\u001b[0;34m(\u001b[0m\u001b[0mfeatures\u001b[0m\u001b[0;34m,\u001b[0m \u001b[0mtarget\u001b[0m\u001b[0;34m)\u001b[0m\u001b[0;34m\u001b[0m\u001b[0;34m\u001b[0m\u001b[0m\n\u001b[1;32m    749\u001b[0m                     \u001b[0;31m# Delete the temporary cache before exiting\u001b[0m\u001b[0;34m\u001b[0m\u001b[0;34m\u001b[0m\u001b[0;34m\u001b[0m\u001b[0m\n",
      "\u001b[0;32m~/miniconda3/lib/python3.7/site-packages/tpot/base.py\u001b[0m in \u001b[0;36m_update_top_pipeline\u001b[0;34m(self)\u001b[0m\n\u001b[1;32m    827\u001b[0m             \u001b[0;31m# If user passes CTRL+C in initial generation, self._pareto_front (halloffame) shoule be not updated yet.\u001b[0m\u001b[0;34m\u001b[0m\u001b[0;34m\u001b[0m\u001b[0;34m\u001b[0m\u001b[0m\n\u001b[1;32m    828\u001b[0m             \u001b[0;31m# need raise RuntimeError because no pipeline has been optimized\u001b[0m\u001b[0;34m\u001b[0m\u001b[0;34m\u001b[0m\u001b[0;34m\u001b[0m\u001b[0m\n\u001b[0;32m--> 829\u001b[0;31m             \u001b[0;32mraise\u001b[0m \u001b[0mRuntimeError\u001b[0m\u001b[0;34m(\u001b[0m\u001b[0;34m'A pipeline has not yet been optimized. Please call fit() first.'\u001b[0m\u001b[0;34m)\u001b[0m\u001b[0;34m\u001b[0m\u001b[0;34m\u001b[0m\u001b[0m\n\u001b[0m\u001b[1;32m    830\u001b[0m \u001b[0;34m\u001b[0m\u001b[0m\n\u001b[1;32m    831\u001b[0m     \u001b[0;32mdef\u001b[0m \u001b[0m_summary_of_best_pipeline\u001b[0m\u001b[0;34m(\u001b[0m\u001b[0mself\u001b[0m\u001b[0;34m,\u001b[0m \u001b[0mfeatures\u001b[0m\u001b[0;34m,\u001b[0m \u001b[0mtarget\u001b[0m\u001b[0;34m)\u001b[0m\u001b[0;34m:\u001b[0m\u001b[0;34m\u001b[0m\u001b[0;34m\u001b[0m\u001b[0m\n",
      "\u001b[0;31mRuntimeError\u001b[0m: A pipeline has not yet been optimized. Please call fit() first."
     ]
    }
   ],
   "source": [
    "tpot(X_train_real,X_test_real,y_train_real,y_test_real,'nadal_2_dir_real_100_no')"
   ]
  }
 ],
 "metadata": {
  "kernelspec": {
   "display_name": "Python 3.7.6 64-bit ('base': conda)",
   "language": "python",
   "name": "python37664bitbaseconda2784c97c2cd54b76ac6c6bdfcbef07a4"
  },
  "language_info": {
   "codemirror_mode": {
    "name": "ipython",
    "version": 3
   },
   "file_extension": ".py",
   "mimetype": "text/x-python",
   "name": "python",
   "nbconvert_exporter": "python",
   "pygments_lexer": "ipython3",
   "version": "3.7.6"
  }
 },
 "nbformat": 4,
 "nbformat_minor": 4
}
